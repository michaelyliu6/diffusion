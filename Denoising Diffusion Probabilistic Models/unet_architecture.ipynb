{
 "cells": [
  {
   "cell_type": "markdown",
   "metadata": {},
   "source": [
    "# The DDPM Architecutre\n",
    "\n",
    "The DDPM paper uses a custom archituecture based off the PixleCNN++ paper, which is based on papers like U-Net and Wide ResNet which we will be breaking down in this notebook. \n",
    "\n",
    "## Table of Contents\n",
    "\n",
    "- [The U-Net](#the-u-net)\n",
    "- [The DDPM Architecture](#the-ddpm-architecutre)\n",
    "- [GroupNorm](#groupnorm)\n",
    "- [Sinusoidal Time Embeddings](#sinusoidal-time-embeddings)\n",
    "- [Sigmoid Linear Unit](#sigmoid-linear-unit)\n",
    "- [Self-Attention and the Attention Block](#self-attention-and-the-attention-block)\n",
    "- [Downsampling block](#downsampling-block)\n",
    "- [MidBlock (Bottleneck)](#midblock-bottneck)\n",
    "- [Upsampling block](#upsampling-block)\n",
    "- [Putting everything together](#putting-everything-together)"
   ]
  },
  {
   "cell_type": "markdown",
   "metadata": {},
   "source": [
    "# The U-Net\n",
    "\n",
    "At the high level, the shape of the DDPM network resembles the U-Net architecture, pictured below. The U-Net, like ResNet, is mostly composed of convolutional layers, but ResNets were developed for classifying an image as a whole, whereas U-Net was developed for medical segmentation tasks that predict an output class such as \"this is part of a tumour\" for each input pixel in the image. By combining both U-Net and ResNet, the DDPM network has to both get an understanding of the global structure of the image (like ResNet), and also the ability to make fine-grained predictions at the pixel level (like U-Net).\n",
    "\n",
    "<img src=\"references/U-Net Architecture.png\" alt=\"U-Net Architecture\">\n",
    "<figcaption><code>Fig. 1</code> from Ronneberger et al. (2015) in <a href=\"https://arxiv.org/pdf/1505.04597#page=2\">U-Net: Convolutional Networks for Biomedical Image Segmentation</a></figcaption>\n",
    "\n",
    "In the diagram, the grey rectanges represent tensors where the width of the rectangle is the number of channels (i.e. initally 3 channels for RGB images), and the height of the rectangle being the number of spatial dimensions (i.e. initally heigh x width dimensions).\n",
    "\n",
    "The U-Net can be divided into three main parts:\n",
    "- **Downsampling** part (as called the \"Encoder\") - Starts at the very left of the diagram until reaching the bottom. Each downsampling block represents applying some convolutional layers followed by a max pooling downsampling operation, progressively reducing spaital dimensions while increasing the number of channels.\n",
    "- **Bottleneck** part - Represented by the bottom row of the diagram. Just a couple of convolutions that represent the most compressed represntation. Has the highest number of channels and the lowest number of spatial dimensions. \n",
    "- **Upsampling** part (as called the \"Decoder\") - Starts at the last tensor on the bottom row until the very right of the diagram. Each upsampling block represents applying some convolution layers followed by a **transposed convolution** upsampling operation, progressively increasing the spatial dimensions while decreasing the number of channels. Also, uses skip connections from the **downsampling** part to bring back low level spatial details and combines them with high level features from the deeper layers. \n",
    "\n",
    "While regular convolutions perform a sliding window operation where the input values are combined into producing a single output value, transposed convolutions do the opposite - each input value contribute to multiple output values through the kernel weights (\"spreading out\" the in put values).\n",
    "\n",
    "\n",
    "<img src=\"references/transposed_conv.png\" alt=\"Transposed Convolution\" width=\"911\" height=\"298\">\n",
    "<figcaption><code>Fig. 14.10.1</code> in <a href=\"https://d2l.ai/chapter_computer-vision/transposed-conv.html\">Dive into Deep Learning</a></figcaption>\n",
    "\n",
    "\n",
    "Finally, there is a final convolution that converts the latents back to the desired number of ouput channels. In the case of medical segmentation, there would be one channel for each class of tumor that you want to detect. In the case of image diffusion models, there will be 1 or 3 output channels (greyscale or RGB)."
   ]
  },
  {
   "cell_type": "markdown",
   "metadata": {},
   "source": [
    "# The DDPM Architecture\n",
    "\n",
    "<img src=\"references/DDPM-architecture.png\" \n",
    "alt=\"U-Net Architecture\\\"\n",
    "data-mermaid=\"\n",
    "graph TD\n",
    "    subgraph DDPM Architecture\n",
    "        subgraph Overview\n",
    "            MTime[Num Noise Steps] --> MTimeLayer[SinusoidalEmbedding<br/>Linear: Steps -> 4C<br/>GELU<br/>Linear: 4C -> 4C]\n",
    "            MTimeLayer -->|emb|DownBlock0 & DownBlock1 & DownBlock2 & MidBlock & UpBlock0 & UpBlock1 & OutBlock\n",
    "            Image -->|3, H| InConv[7x7 Conv<br/>Padding 3] -->|C, H| DownBlock0 -->|C, H/2| DownBlock1 -->|2C,H/4| DownBlock2 -->|4C,H/4| MidBlock -->|4C,H/4| UpBlock0 -->|2C,H/2| UpBlock1 -->|C,H| OutBlock[Residual Block] -->|C,H| FinalConv[1x1 Conv] -->|3,H| Output\n",
    "            DownBlock2 -->|4C,H/4| UpBlock0\n",
    "            DownBlock1 -->|2C,H/2| UpBlock1\n",
    "        end\n",
    "end\n",
    "\">"
   ]
  },
  {
   "cell_type": "markdown",
   "metadata": {},
   "source": [
    "The model used in the paper, shown above, looks very similar to the U-Net. It has the same three part stucture with **downsampling** parts (DownBlocks), a **bottleneck** part (MidBlock), and **upsampling** parts (Upblocks). However, the DDPM architecture also has many differences. The most notable difference is, in addition to the an image input, there is also a single integer represeting the number of steps of noise added. Other differences in the DDPM model include: group normalization, sinusoidal time embeddings, new nonlineararities (SiLu), Self-attention, and residual connections instead of concatenation for skip connections. \n",
    "\n",
    "We will dive deeper and implemenet each part of this architecture separately in this notebooks and then finally put everything together at the end. \n",
    "\n"
   ]
  },
  {
   "cell_type": "code",
   "execution_count": 43,
   "metadata": {},
   "outputs": [],
   "source": [
    "from typing import Optional, Union\n",
    "import matplotlib.pyplot as plt\n",
    "import torch as t\n",
    "from einops import rearrange\n",
    "from fancy_einsum import einsum\n",
    "from torch import nn\n",
    "import tests.unet_architecture_tests"
   ]
  },
  {
   "cell_type": "markdown",
   "metadata": {},
   "source": [
    "# GroupNorm\n",
    "\n",
    "<img src=\"references/groupnorm.png\" alt=\"GroupNorm\">\n",
    "<figcaption><code>Fig. 2</code> from Wu and He (2018) in <a href=\"https://arxiv.org/pdf/1803.08494#page=3\">Group Normalization</a></figcaption>\n",
    "\n",
    "In our previous \"toy model\" notebook, we had a **Layer Normalization** that preprocessed each training example by computing the mean and standard deviation across all channels.\n",
    "\n",
    "In **Group Normalization** we divide our chanels into some number of groups, and we calculate the mean and standard deviation for each training example AND group. For exmaple, when the number of groups is 1, GroupNorm is can be expressed to LayerNorm. The main difference being that while LayerNorm expects the channel embedding to be last (the PyTorch convention for NLP), GroupNorm expects the channel dimension to be right after the batch dimensions (the PyTorch convention for images).\n",
    "\n",
    "The core concept for Group norm is that it divides channels into groups and normalizes within each group for each sample independently. Features within channels often have meanintful relationships (i.e. edge detectors or color channels), by grouping channels together, we maintain these relatinoships while getting the benefits of normalization. In addition, we get more benefits like batch-size independence and more stable training. \n",
    "\n",
    "For more intuition, read the paper [Group Normalization](https://arxiv.org/pdf/1803.08494). Also, see [pytorch implementation](https://pytorch.org/docs/stable/_modules/torch/nn/modules/normalization.html#GroupNorm)."
   ]
  },
  {
   "cell_type": "code",
   "execution_count": 44,
   "metadata": {},
   "outputs": [],
   "source": [
    "class GroupNorm(nn.Module):\n",
    "    def __init__(\n",
    "        self,\n",
    "        num_groups: int,\n",
    "        num_channels: int,\n",
    "        eps: float = 1e-5,\n",
    "        affine: bool = True, \n",
    "        device: Optional[Union[t.device, str]] = None,\n",
    "        dtype: Optional[t.dtype] = None,\n",
    "    ) -> None:\n",
    "        super().__init__()\n",
    "        assert num_channels % num_groups == 0\n",
    "        self.num_groups = num_groups\n",
    "        self.num_channels = num_channels\n",
    "        self.eps = eps\n",
    "        self.affine = affine # if true, this module has learnable per-channel affine parameters initialized to ones (for weights) and zeros (for biases)\n",
    "        if self.affine:\n",
    "            self.weight = nn.Parameter(t.empty((self.num_channels,), device=device, dtype=dtype))  \n",
    "            self.bias = nn.Parameter(t.empty((self.num_channels,), device=device, dtype=dtype)) \n",
    "        else:\n",
    "            self.register_parameter(\"weight\", None)\n",
    "            self.register_parameter(\"bias\", None)\n",
    "        self.reset_parameters()\n",
    "\n",
    "    def reset_parameters(self) -> None:\n",
    "        \"\"\"Initialize the weight and bias, if applicable.\"\"\"\n",
    "        if self.affine:\n",
    "            nn.init.ones_(self.weight)\n",
    "            nn.init.zeros_(self.bias)\n",
    "\n",
    "    def forward(self, x: t.Tensor) -> t.Tensor:\n",
    "        \"\"\"Apply normalization to each group of channels.\n",
    "\n",
    "        x: shape (batch, channels, height, width)\n",
    "        out: shape (batch, channels, height, width)\n",
    "        \"\"\"\n",
    "        # split into groups\n",
    "        x = rearrange(x, \"n (g c) h w -> n g c h w\", g=self.num_groups) \n",
    "\n",
    "        # calculate mean and variance\n",
    "        dim = (2, 3, 4)\n",
    "        mean = x.mean(dim=dim, keepdim=True)\n",
    "        var = x.var(dim=dim, keepdim=True, unbiased=False)\n",
    "\n",
    "        # normalize\n",
    "        x = x - mean\n",
    "        x = x / ((var + self.eps) ** 0.5)\n",
    "\n",
    "        # reassemble to original shape\n",
    "        x = rearrange(x, \"n g c h w -> n (g c) h w\")\n",
    "\n",
    "        # apply learned scale (weight) and bias parameters per-channel if affine=True\n",
    "        if self.affine:\n",
    "            x = x * self.weight.view(1, -1, 1, 1)\n",
    "            x = x + self.bias.view(1, -1, 1, 1)\n",
    "        return x"
   ]
  },
  {
   "cell_type": "code",
   "execution_count": 45,
   "metadata": {},
   "outputs": [
    {
     "name": "stdout",
     "output_type": "stream",
     "text": [
      "\u001b[32mtests.unet_architecture_tests.test_groupnorm passed in 0.00s.\u001b[0m\n",
      "\u001b[32mtests.unet_architecture_tests.test_groupnorm passed in 0.00s.\u001b[0m\n"
     ]
    }
   ],
   "source": [
    "tests.unet_architecture_tests.test_groupnorm(GroupNorm, affine=False)\n",
    "tests.unet_architecture_tests.test_groupnorm(GroupNorm, affine=True)"
   ]
  },
  {
   "cell_type": "markdown",
   "metadata": {},
   "source": [
    "# Sinusoidal Time Embeddings\n",
    "\n",
    "In BERT and GPT, the mapping from the sequence position to the embedding vector was learned by the model during training. However, it is also common to simply hardcode this mapping using a combination of sine and cosine functions at different frequences. By hardcoding the mapping, we slightly reduce the nubmer of paramters without sacrificing much performance. \n",
    "\n",
    "In our model, instead of sequence position, our model needs to know the number of noise steps were added to be able to anticipate how much noise to expect since the amount of noise increases with number of steps.\n",
    "\n",
    "TLDR - Sinusoidal embeddings allows a simple linear transformation in of the \"query\" and \"key\" vectors can express relative positional relationships (i.e. this positions attends to information k positions ago). For more intuition, see [this blog post](https://kazemnejad.com/blog/transformer_architecture_positional_encoding/). We will be reproducing, Figure 2 and Figure 3 from this blog.\n",
    "\n",
    "\n",
    "\n",
    "<img src=\"references/positional_embedding.png\" alt=\"Positional Embedding\">\n",
    "<figcaption>From Calvo (2018) in <a href=\"https://medium.com/dissecting-bert/dissecting-bert-part-1-d3c3d495cdb3\">Dissecting BERT Part 1: The Encoder</a> (different blog post from the one previously mentioned)</figcaption>"
   ]
  },
  {
   "cell_type": "code",
   "execution_count": 46,
   "metadata": {},
   "outputs": [],
   "source": [
    "class SinusoidalPositionEmbeddings(nn.Module):\n",
    "    def __init__(self, embedding_size: int):\n",
    "        super().__init__()\n",
    "        self.embedding_size = embedding_size\n",
    "        wk = 1.0 / 10000.0 ** ((t.arange(0, embedding_size, 2)) / embedding_size)\n",
    "        self.register_buffer(\"wk\", wk)\n",
    "\n",
    "    def forward(self, x: t.Tensor) -> t.Tensor:\n",
    "        \"\"\"\n",
    "        x: shape (batch, ) - for each batch element, the number of noise steps\n",
    "        Out: shape (batch, embedding_size)\n",
    "        \"\"\"\n",
    "        wkx = t.einsum(\"x, k -> xk\", x, self.wk)\n",
    "        stacked = t.stack((wkx.sin(), wkx.cos()), dim=-1)\n",
    "        flat = rearrange(stacked, \"batch k func -> batch (k func)\", func=2)\n",
    "        return flat"
   ]
  },
  {
   "cell_type": "code",
   "execution_count": 47,
   "metadata": {},
   "outputs": [
    {
     "data": {
      "text/plain": [
       "[Text(0.5, 0, 'Num Steps'),\n",
       " Text(0, 0.5, 'Num Steps'),\n",
       " Text(0.5, 1.0, 'Dot product of position embeddings')]"
      ]
     },
     "execution_count": 47,
     "metadata": {},
     "output_type": "execute_result"
    },
    {
     "data": {
      "image/png": "[encoded data removed]",
      "text/plain": [
       "<Figure size 1500x500 with 2 Axes>"
      ]
     },
     "metadata": {},
     "output_type": "display_data"
    },
    {
     "data": {
      "image/png": "[encoded data removed]",
      "text/plain": [
       "<Figure size 900x900 with 2 Axes>"
      ]
     },
     "metadata": {},
     "output_type": "display_data"
    }
   ],
   "source": [
    "emb = SinusoidalPositionEmbeddings(128)\n",
    "out = emb(t.arange(50))\n",
    "\n",
    "fig, ax = plt.subplots(figsize=(15, 5))\n",
    "ax.set(xlabel=\"Embedding Dimension\", ylabel=\"Num Steps\", title=\"Position Embeddings\")\n",
    "im = ax.imshow(out, vmin=-1, vmax=1)\n",
    "fig.colorbar(im)\n",
    "\n",
    "fig, ax = plt.subplots(figsize=(9, 9))\n",
    "im = ax.imshow(out @ out.T)\n",
    "fig.colorbar(im)\n",
    "ax.set(xlabel=\"Num Steps\", ylabel=\"Num Steps\", title=\"Dot product of position embeddings\")"
   ]
  },
  {
   "cell_type": "markdown",
   "metadata": {},
   "source": [
    "# Sigmoid Linear Unit\n",
    "\n",
    "The Sigmoid Linear Unit (SiLu) (also sometimes called \"Swish\") nonlinearity is simply elementwise `x * sigmoid(x)`. \n",
    "\n",
    "TLDR: It's just another activation function that claims to lead to better performance. For more details about this activation function, [Swish: A Self-Gated Activation Function](https://arxiv.org/pdf/1710.05941v1)."
   ]
  },
  {
   "cell_type": "code",
   "execution_count": 48,
   "metadata": {},
   "outputs": [],
   "source": [
    "def swish(x: t.Tensor) -> t.Tensor:\n",
    "    return x * x.sigmoid()\n",
    "\n",
    "\n",
    "class SiLU(nn.Module):\n",
    "    def forward(self, x: t.Tensor) -> t.Tensor:\n",
    "        return swish(x)"
   ]
  },
  {
   "cell_type": "code",
   "execution_count": 49,
   "metadata": {},
   "outputs": [
    {
     "data": {
      "text/plain": [
       "[Text(0.5, 0, 'x'), Text(0, 0.5, 'swish(x)')]"
      ]
     },
     "execution_count": 49,
     "metadata": {},
     "output_type": "execute_result"
    },
    {
     "data": {
      "image/png": "[encoded data removed]",
      "text/plain": [
       "<Figure size 640x480 with 1 Axes>"
      ]
     },
     "metadata": {},
     "output_type": "display_data"
    }
   ],
   "source": [
    "silu = SiLU()\n",
    "\n",
    "\n",
    "fig, ax = plt.subplots()\n",
    "x = t.linspace(-5, 5, 100)\n",
    "ax.plot(x, silu(x))\n",
    "ax.set(xlabel=\"x\", ylabel=\"swish(x)\")"
   ]
  },
  {
   "cell_type": "markdown",
   "metadata": {},
   "source": [
    "# Self-Attention and the Attention Block\n",
    "\n",
    "<img src=\"references/self_attention.png\" alt=\"Multi-Head Attention\">\n",
    "<figcaption><code>Figure 2</code> from Vaswani et al. (2017) in <a href=\"https://arxiv.org/pdf/1706.03762#page=4\">Attention Is All You Need</a></figcaption>\n",
    "\n",
    "The self-attention mechanism in the DDPM model look very similar to the self-attention mechanism used in LLMs like GPT. However, in the DDPM model, there is no causal attnetion meaning that we don't need to apply as mask. Also, instead of having only one spatial dimension (token sequences), we have image data that has two spatial dimensions (height and width). \n"
   ]
  },
  {
   "cell_type": "code",
   "execution_count": 50,
   "metadata": {},
   "outputs": [],
   "source": [
    "class SelfAttention(nn.Module):\n",
    "    def __init__(self, channels: int, num_heads: int = 4):\n",
    "        \"\"\"Self-Attention with two spatial dimensions.\n",
    "\n",
    "        channels: the number of channels. Should be divisible by the number of heads.\n",
    "        \"\"\"\n",
    "        super().__init__()\n",
    "        self.channels = channels\n",
    "        self.num_heads = num_heads\n",
    "        assert channels % num_heads == 0\n",
    "        self.head_size = channels // num_heads\n",
    "        self.in_proj = nn.Linear(channels, channels * 3) # 3 for Key (W_K), Query (W_Q), and Value (W_V) vectors\n",
    "        self.out_proj = nn.Linear(channels, channels) # Ouput (W_O)\n",
    "\n",
    "    def forward(self, x: t.Tensor) -> t.Tensor:\n",
    "        \"\"\"\n",
    "        x: shape (batch, channels, height, width)\n",
    "        out: shape (batch, channels, height, width)\n",
    "        \"\"\"\n",
    "        b, c, h, w = x.shape\n",
    "        assert self.channels == c\n",
    "\n",
    "        # Reshape 2D image into sequence of feature vectors\n",
    "        x = rearrange(x, \"batch channels height width -> batch (height width) channels\") \n",
    "\n",
    "        # Project input into query, key, and value vectors all at once\n",
    "        qkv = self.in_proj(x).chunk(3, dim=-1)\n",
    "\n",
    "        # Separate Q, K, V and reshape to split channels into multiple heads\n",
    "        q, k, v = [\n",
    "            rearrange(tensor, \"batch seq (head head_size) -> batch head seq head_size\", head=self.num_heads)\n",
    "            for tensor in qkv\n",
    "        ]\n",
    "\n",
    "        # Compute and scale attention scores \n",
    "        out = einsum(\"batch head seq_q head_size, batch head seq_k head_size -> batch head seq_q seq_k\", q, k)\n",
    "        out = out / (self.head_size**0.5)\n",
    "        attn = out.softmax(dim=-1)\n",
    "\n",
    "        # Use attention probabilties to computed a weighted sum of values \n",
    "        out = einsum(\"batch head seq_k head_size, batch head seq_q seq_k -> batch head seq_q head_size\", v, attn)\n",
    "\n",
    "        # Combine all heads and restore original sequence dimension\n",
    "        out = rearrange(out, \"batch head seq head_size -> batch seq (head head_size)\")\n",
    "\n",
    "        # Final projection to mix information between heads\n",
    "        out = self.out_proj(out)\n",
    "\n",
    "        # Reshape back into a 2D image \n",
    "        out = rearrange(out, \"batch (height width) channels -> batch channels height width\", height=h, width=w)\n",
    "\n",
    "        return out"
   ]
  },
  {
   "cell_type": "code",
   "execution_count": 51,
   "metadata": {},
   "outputs": [
    {
     "name": "stdout",
     "output_type": "stream",
     "text": [
      "\u001b[32mtests.unet_architecture_tests.test_self_attention passed in 0.09s.\u001b[0m\n"
     ]
    }
   ],
   "source": [
    "tests.unet_architecture_tests.test_self_attention(SelfAttention)"
   ]
  },
  {
   "cell_type": "markdown",
   "metadata": {},
   "source": [
    "Below is a diagram of the AttentionBlock. It is pretty straight forward. There is a GroupNorm layer, followed the self-attention layer implemented above that gets added back to the residual stream at the very end."
   ]
  },
  {
   "cell_type": "markdown",
   "metadata": {},
   "source": [
    "<img src=\"references/attention_block.png\" alt=\"Attention Block\n",
    "graph TD\n",
    "    subgraph AttentionBlock\n",
    "        Image --> GroupNorm[Group Norm<br/>1 group] --> Self-Attention[Self-Attention<br/>4 heads] --> Output\n",
    "        Image --> Output\n",
    "    end\"\n",
    " width=\"322.33333333\" height=\"640\">"
   ]
  },
  {
   "cell_type": "code",
   "execution_count": 52,
   "metadata": {},
   "outputs": [],
   "source": [
    "class AttentionBlock(nn.Module):\n",
    "    def __init__(self, channels: int):\n",
    "        super().__init__()\n",
    "        self.norm = GroupNorm(1, channels)\n",
    "        self.attn = SelfAttention(channels)\n",
    "\n",
    "    def forward(self, x: t.Tensor) -> t.Tensor:\n",
    "        return x + self.attn(self.norm(x))"
   ]
  },
  {
   "cell_type": "code",
   "execution_count": 53,
   "metadata": {},
   "outputs": [
    {
     "name": "stdout",
     "output_type": "stream",
     "text": [
      "\u001b[32mtests.unet_architecture_tests.test_attention_block passed in 0.07s.\u001b[0m\n"
     ]
    }
   ],
   "source": [
    "tests.unet_architecture_tests.test_attention_block(SelfAttention)"
   ]
  },
  {
   "cell_type": "code",
   "execution_count": 54,
   "metadata": {},
   "outputs": [],
   "source": [
    "class ResidualBlock(nn.Module):\n",
    "    def __init__(self, input_channels: int, output_channels: int, step_dim: int, groups: int):\n",
    "        \"\"\"\n",
    "        input_channels: number of channels in the input to foward\n",
    "        output_channels: number of channels in the returned output\n",
    "        step_dim: embedding dimension size for the number of steps\n",
    "        groups: number of groups in the GroupNorms\n",
    "\n",
    "        Note that the conv in the left branch is needed if c_in != c_out.\n",
    "        \"\"\"\n",
    "        super().__init__()\n",
    "        self.mlp = nn.Sequential(\n",
    "            SiLU(), nn.Linear(step_dim, output_channels)\n",
    "        )  # start with silu because time_mlp in the base ended in Linear without nonlinearity\n",
    "\n",
    "        self.block1 = nn.Sequential(\n",
    "            nn.Conv2d(input_channels, output_channels, 3, padding=1), GroupNorm(groups, output_channels), SiLU()\n",
    "        )\n",
    "        self.block2 = nn.Sequential(\n",
    "            nn.Conv2d(output_channels, output_channels, 3, padding=1), GroupNorm(groups, output_channels), SiLU()\n",
    "        )\n",
    "        self.res_conv = (\n",
    "            nn.Conv2d(input_channels, output_channels, 1) if input_channels != output_channels else nn.Identity() # extra convolution to get the input/output dimensions to match\n",
    "        )\n",
    "\n",
    "    def forward(self, x: t.Tensor, time_emb: t.Tensor) -> t.Tensor:\n",
    "        h = self.block1(x)\n",
    "\n",
    "        time_emb = self.mlp(time_emb)\n",
    "        h = rearrange(time_emb, \"b c -> b c 1 1\") + h # matching up matrix dimensions\n",
    "        h = self.block2(h)\n",
    "        return h + self.res_conv(x)"
   ]
  },
  {
   "cell_type": "code",
   "execution_count": 55,
   "metadata": {},
   "outputs": [
    {
     "name": "stdout",
     "output_type": "stream",
     "text": [
      "\u001b[32mtests.unet_architecture_tests.test_residual_block passed in 0.00s.\u001b[0m\n"
     ]
    }
   ],
   "source": [
    "tests.unet_architecture_tests.test_residual_block(ResidualBlock)"
   ]
  },
  {
   "cell_type": "markdown",
   "metadata": {},
   "source": [
    "# Downsampling Block\n",
    "\n",
    "The downblock takes in an input with height `h` and an embedding for the number of steps `NumSteps` and returns: a skip output of height `h` to the corresponding `UpBlock` **AND** a dampsampled output of height `h//2`\n",
    "\n",
    "<img src=\"references/down_block.png\" alt=\"Down Block\"\n",
    "data-mermaid=\"\n",
    "graph TD\n",
    "    subgraph DownBlock\n",
    "        NumSteps -->|emb| DResnetBlock1 & DResnetBlock2\n",
    "        DImage[Input] -->|c_in, h| DResnetBlock1[Residual Block 1] -->|c_out, h| DResnetBlock2[Residual Block 2] -->|c_out, h| DAttention[Attention Block] -->|c_out, h| DConv2d[4x4 Conv<br/>Stride 2<br/>Padding 1] -->|c_out, h/2| Output\n",
    "        DAttention -->|c_out, h| SkipToUpBlock[Skip To<br/>UpBlock]\n",
    "    end\n",
    "\" width=\"277\" height=\"640\">"
   ]
  },
  {
   "cell_type": "code",
   "execution_count": 56,
   "metadata": {},
   "outputs": [],
   "source": [
    "class DownBlock(nn.Module):\n",
    "    def __init__(\n",
    "        self,\n",
    "        channels_in: int,\n",
    "        channels_out: int,\n",
    "        time_emb_dim: int,\n",
    "        groups: int,\n",
    "        downsample: bool,\n",
    "    ):\n",
    "        super().__init__()\n",
    "        self.block0 = ResidualBlock(channels_in, channels_out, time_emb_dim, groups)\n",
    "        self.block1 = ResidualBlock(channels_out, channels_out, time_emb_dim, groups)\n",
    "        self.attn = AttentionBlock(channels_out)\n",
    "        self.downsample = nn.Conv2d(channels_out, channels_out, 4, 2, 1) if downsample else nn.Identity()\n",
    "\n",
    "    def forward(self, x: t.Tensor, step_emb: t.Tensor) -> tuple[t.Tensor, t.Tensor]:\n",
    "        \"\"\"\n",
    "        x: shape (batch, channels, height, width)\n",
    "        step_emb: shape (batch, emb)\n",
    "        Return: (downsampled output, full size output to skip to matching UpBlock)\n",
    "        \"\"\"\n",
    "        B, C, H, W = x.shape\n",
    "        x = self.block0(x, step_emb)\n",
    "        x = self.block1(x, step_emb)\n",
    "        skip = self.attn(x)\n",
    "        if isinstance(self.downsample, nn.Conv2d):\n",
    "            assert H % 2 == 0, f\"{H} not divisible by 2 - this will break the upsample later\"\n",
    "            assert W % 2 == 0, f\"{W} not divisible by 2 - this will break the upsample later\"\n",
    "        x = self.downsample(skip)\n",
    "        return x, skip\n"
   ]
  },
  {
   "cell_type": "code",
   "execution_count": 57,
   "metadata": {},
   "outputs": [
    {
     "name": "stdout",
     "output_type": "stream",
     "text": [
      "\u001b[32mtests.unet_architecture_tests.test_downblock passed in 0.01s.\u001b[0m\n",
      "\u001b[32mtests.unet_architecture_tests.test_downblock passed in 0.00s.\u001b[0m\n"
     ]
    }
   ],
   "source": [
    "tests.unet_architecture_tests.test_downblock(DownBlock, downsample=True)\n",
    "tests.unet_architecture_tests.test_downblock(DownBlock, downsample=False)\n"
   ]
  },
  {
   "cell_type": "markdown",
   "metadata": {},
   "source": [
    "# MidBlock (Bottneck)\n",
    "\n",
    "<img src=\"references/up_block.png\" alt=\"Mid Block\"\n",
    "data-mermaid=\"\n",
    "graph TD\n",
    "    subgraph MidBlock\n",
    "        UNumSteps[NumSteps] -->|emb| UResnetBlock1 & UResnetBlock2\n",
    "        UImage[Image] -->|c_mid, h| UResnetBlock1[Residual Block 1] -->|c_mid, h| UAttention[Attention Block] -->|c_mid, h| UResnetBlock2[Residual Block 2] -->|c_mid, h| UOutput[Output]\n",
    "    end\n",
    "\" width=\"345.3\" height=\"640\">\n",
    "\n",
    "After passing through all the `DownBlocks`, the image tensor is passed through `MidBlocks` which doesn't modify the tensor dimensions. "
   ]
  },
  {
   "cell_type": "code",
   "execution_count": 58,
   "metadata": {},
   "outputs": [],
   "source": [
    "class MidBlock(nn.Module):\n",
    "    def __init__(self, mid_dim: int, time_emb_dim: int, groups: int):\n",
    "        super().__init__()\n",
    "        self.mid_block1 = ResidualBlock(mid_dim, mid_dim, time_emb_dim, groups)\n",
    "        self.mid_attn = AttentionBlock(mid_dim)\n",
    "        self.mid_block2 = ResidualBlock(mid_dim, mid_dim, time_emb_dim, groups)\n",
    "\n",
    "    def forward(self, x: t.Tensor, step_emb: t.Tensor):\n",
    "        x = self.mid_block1(x, step_emb)\n",
    "        x = self.mid_attn(x)\n",
    "        x = self.mid_block2(x, step_emb)\n",
    "        return x"
   ]
  },
  {
   "cell_type": "code",
   "execution_count": 59,
   "metadata": {},
   "outputs": [
    {
     "name": "stdout",
     "output_type": "stream",
     "text": [
      "\u001b[32mtests.unet_architecture_tests.test_midblock passed in 0.01s.\u001b[0m\n"
     ]
    }
   ],
   "source": [
    "tests.unet_architecture_tests.test_midblock(MidBlock)"
   ]
  },
  {
   "cell_type": "markdown",
   "metadata": {},
   "source": [
    "# Upsampling Block\n",
    "\n",
    "<img src=\"references/up_block.png\" alt=\"Up Block\"\n",
    "data-mermaid=\"\n",
    "graph TD\n",
    "    subgraph UpBlock\n",
    "        UNumSteps[NumSteps] -->|emb| UResnetBlock1 & UResnetBlock2\n",
    "        Skip[Skip From<br/>DownBlock<br/>] -->|c_out, h| Concatenate\n",
    "        UImage[Image] -->|c_out, h| Concatenate -->|2*c_out, h| UResnetBlock1[Residual Block 1] -->|c_in, h| UResnetBlock2[Residual Block 2] -->|c_in, h| UAttention[Attention Block] -->|c_in, h| DConvTranspose2d[4x4 Transposed Conv<br/>Stride 2<br/>Padding 1] -->|c_in, 2h| UOutput[Output]\n",
    "    end\n",
    "\" width=\"301\" height=\"640\">\n",
    "\n",
    "In addition to `NumSteps` and the image data, the `UpBlock` also takes in a skip connection from the corresponding `DownBlock` (i.e. the first `UpBlock` corresponds to the last `DownBlock`, second `UpBlock` corresponds to the second to last `DownBlock`, etc).\n",
    "\n",
    "Note: The shape dimensions `c_in` and `c_out` are with respect to the corresponding `DownBlock`. It's confusing either way you try to label it."
   ]
  },
  {
   "cell_type": "code",
   "execution_count": 60,
   "metadata": {},
   "outputs": [],
   "source": [
    "class UpBlock(nn.Module):\n",
    "    def __init__(self, dim_in: int, dim_out: int, time_emb_dim: int, groups: int, upsample: bool):\n",
    "        super().__init__()\n",
    "        self.block0 = ResidualBlock(dim_out * 2, dim_in, time_emb_dim, groups)\n",
    "        self.block1 = ResidualBlock(dim_in, dim_in, time_emb_dim, groups)\n",
    "        self.attn = AttentionBlock(dim_in)\n",
    "        self.upsample = nn.ConvTranspose2d(dim_in, dim_in, 4, 2, 1) if upsample else nn.Identity()\n",
    "\n",
    "    def forward(self, x: t.Tensor, step_emb: t.Tensor, skip: t.Tensor) -> t.Tensor:\n",
    "        x = t.cat((x, skip), dim=1)  # cat along channel dim\n",
    "        x = self.block0(x, step_emb)\n",
    "        x = self.block1(x, step_emb)\n",
    "        x = self.attn(x)\n",
    "        x = self.upsample(x)\n",
    "        return x"
   ]
  },
  {
   "cell_type": "code",
   "execution_count": 61,
   "metadata": {},
   "outputs": [
    {
     "name": "stdout",
     "output_type": "stream",
     "text": [
      "\u001b[32mtests.unet_architecture_tests.test_upblock passed in 0.00s.\u001b[0m\n",
      "\u001b[32mtests.unet_architecture_tests.test_upblock passed in 0.00s.\u001b[0m\n"
     ]
    }
   ],
   "source": [
    "tests.unet_architecture_tests.test_upblock(UpBlock, upsample=True)\n",
    "tests.unet_architecture_tests.test_upblock(UpBlock, upsample=False)"
   ]
  },
  {
   "cell_type": "markdown",
   "metadata": {},
   "source": [
    "# Putting everything together\n",
    "\n",
    "Now that we have implemented all of the pieces, we can put stitch together the entire model. Here is the high level diagram of the DDPM model again:\n",
    "\n",
    "<img src=\"references/DDPM-architecture.png\" \n",
    "alt=\"U-Net Architecture\\\"\n",
    "data-mermaid=\"\n",
    "graph TD\n",
    "    subgraph DDPM Architecture\n",
    "        subgraph Overview\n",
    "            MTime[Num Noise Steps] --> MTimeLayer[SinusoidalEmbedding<br/>Linear: Steps -> 4C<br/>GELU<br/>Linear: 4C -> 4C]\n",
    "            MTimeLayer -->|emb|DownBlock0 & DownBlock1 & DownBlock2 & MidBlock & UpBlock0 & UpBlock1 & OutBlock\n",
    "            Image -->|3, H| InConv[7x7 Conv<br/>Padding 3] -->|C, H| DownBlock0 -->|C, H/2| DownBlock1 -->|2C,H/4| DownBlock2 -->|4C,H/4| MidBlock -->|4C,H/4| UpBlock0 -->|2C,H/2| UpBlock1 -->|C,H| OutBlock[Residual Block] -->|C,H| FinalConv[1x1 Conv] -->|3,H| Output\n",
    "            DownBlock2 -->|4C,H/4| UpBlock0\n",
    "            DownBlock1 -->|2C,H/2| UpBlock1\n",
    "        end\n",
    "end\n",
    "\">\n"
   ]
  },
  {
   "cell_type": "code",
   "execution_count": 62,
   "metadata": {},
   "outputs": [],
   "source": [
    "class Unet(nn.Module):\n",
    "    def __init__(\n",
    "        self,\n",
    "        image_shape: tuple[int, int, int],\n",
    "        channels: int = 128,\n",
    "        dim_mults: tuple[int, ...] = (1, 2, 4, 8),\n",
    "        groups: int = 4,\n",
    "        max_steps: int = 1000,\n",
    "    ):\n",
    "        \"\"\"\n",
    "        image_shape: the input and output image shape, a tuple of (C, H, W)\n",
    "        channels: the number of channels after the first convolution.\n",
    "        dim_mults: the number of output channels for downblock i is dim_mults[i] * channels. Note that the default arg of (1, 2, 4, 8) will contain one more DownBlock and UpBlock than the DDPM image above.\n",
    "        groups: number of groups in the group normalization of each ResnetBlock (doesn't apply to attention block)\n",
    "        max_steps: the max number of (de)noising steps. We also use this value as the sinusoidal positional embedding dimension (although in general these do not need to be related).\n",
    "        \"\"\"\n",
    "        self.noise_schedule = None\n",
    "        self.img_shape = image_shape\n",
    "        super().__init__()\n",
    "        time_emb_dim = 4 * channels\n",
    "        self.init_conv = nn.Conv2d(image_shape[0], channels, 7, padding=3)\n",
    "        self.time_mlp = nn.Sequential(\n",
    "            SinusoidalPositionEmbeddings(max_steps),\n",
    "            nn.Linear(max_steps, time_emb_dim),\n",
    "            nn.GELU(),\n",
    "            nn.Linear(time_emb_dim, time_emb_dim),\n",
    "        )\n",
    "\n",
    "        dims = [channels] + [channels * m for m in dim_mults]\n",
    "        in_out = list(zip(dims[:-1], dims[1:]))\n",
    "        print(\"Channel sizes for in/out:\", in_out) \n",
    "\n",
    "        self.downs = nn.ModuleList([])\n",
    "        for i, (dim_in, dim_out) in enumerate(in_out):\n",
    "            is_last = i >= len(in_out) - 1\n",
    "            self.downs.append(DownBlock(dim_in, dim_out, time_emb_dim, groups, not is_last))\n",
    "\n",
    "        self.mid = MidBlock(dims[-1], time_emb_dim, groups)\n",
    "\n",
    "        self.ups = nn.ModuleList([])\n",
    "        for i, (dim_in, dim_out) in enumerate(reversed(in_out[1:])):\n",
    "            is_last = i >= len(in_out) - 1\n",
    "            self.ups.append(UpBlock(dim_in, dim_out, time_emb_dim, groups, not is_last))\n",
    "\n",
    "        self.final_block = ResidualBlock(channels, channels, time_emb_dim, groups)\n",
    "        self.final_conv = nn.Conv2d(channels, image_shape[0], 1)\n",
    "\n",
    "    def forward(self, x: t.Tensor, num_steps: t.Tensor) -> t.Tensor:\n",
    "        \"\"\"\n",
    "        x: shape (batch, channels, height, width)\n",
    "        num_steps: shape (batch, )\n",
    "\n",
    "        out: shape (batch, channels, height, width)\n",
    "        \"\"\"\n",
    "        x = self.init_conv(x)\n",
    "        step_emb = self.time_mlp(num_steps)\n",
    "        skips = [] # push/pop to match `UpBlocks` to `DownBlocks`\n",
    "        for d in self.downs:\n",
    "            assert isinstance(d, DownBlock)\n",
    "            x, skip = d(x, step_emb)\n",
    "            skips.append(skip)\n",
    "\n",
    "        x = self.mid(x, step_emb)\n",
    "\n",
    "        for u in self.ups:\n",
    "            assert isinstance(u, UpBlock)\n",
    "            skip = skips.pop()\n",
    "            x = u(x, step_emb, skip)\n",
    "\n",
    "        x = self.final_block(x, step_emb)\n",
    "        x = self.final_conv(x)\n",
    "        return x"
   ]
  },
  {
   "cell_type": "code",
   "execution_count": 63,
   "metadata": {},
   "outputs": [
    {
     "name": "stdout",
     "output_type": "stream",
     "text": [
      "Channel sizes for in/out: [(8, 8), (8, 16), (16, 32)]\n",
      "\u001b[32mtests.unet_architecture_tests.test_unet passed in 0.04s.\u001b[0m\n"
     ]
    }
   ],
   "source": [
    "tests.unet_architecture_tests.test_unet(Unet)"
   ]
  }
 ],
 "metadata": {
  "kernelspec": {
   "display_name": "base",
   "language": "python",
   "name": "python3"
  },
  "language_info": {
   "codemirror_mode": {
    "name": "ipython",
    "version": 3
   },
   "file_extension": ".py",
   "mimetype": "text/x-python",
   "name": "python",
   "nbconvert_exporter": "python",
   "pygments_lexer": "ipython3",
   "version": "3.12.2"
  }
 },
 "nbformat": 4,
 "nbformat_minor": 2
}
