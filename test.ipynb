{
 "cells": [
  {
   "cell_type": "code",
   "execution_count": 7,
   "metadata": {},
   "outputs": [
    {
     "ename": "ModuleNotFoundError",
     "evalue": "No module named 'flux.api'",
     "output_type": "error",
     "traceback": [
      "\u001b[0;31m---------------------------------------------------------------------------\u001b[0m",
      "\u001b[0;31mModuleNotFoundError\u001b[0m                       Traceback (most recent call last)",
      "Cell \u001b[0;32mIn[7], line 1\u001b[0m\n\u001b[0;32m----> 1\u001b[0m \u001b[38;5;28;01mfrom\u001b[39;00m \u001b[38;5;21;01mflux\u001b[39;00m\u001b[38;5;21;01m.\u001b[39;00m\u001b[38;5;21;01mapi\u001b[39;00m \u001b[38;5;28;01mimport\u001b[39;00m ImageRequest\n\u001b[1;32m      3\u001b[0m \u001b[38;5;66;03m# this will create an api request directly but not block until the generation is finished\u001b[39;00m\n\u001b[1;32m      4\u001b[0m request \u001b[38;5;241m=\u001b[39m ImageRequest(\u001b[38;5;124m\"\u001b[39m\u001b[38;5;124mA beautiful beach\u001b[39m\u001b[38;5;124m\"\u001b[39m, name\u001b[38;5;241m=\u001b[39m\u001b[38;5;124m\"\u001b[39m\u001b[38;5;124mflux.1.1-pro\u001b[39m\u001b[38;5;124m\"\u001b[39m, api_key\u001b[38;5;241m=\u001b[39m\u001b[38;5;124m\"\u001b[39m\u001b[38;5;124mfff94ce2-930c-4250-a111-5a7f95c1b21d\u001b[39m\u001b[38;5;124m\"\u001b[39m)\n",
      "\u001b[0;31mModuleNotFoundError\u001b[0m: No module named 'flux.api'"
     ]
    }
   ],
   "source": [
    "from flux.api import ImageRequest\n",
    "\n",
    "# this will create an api request directly but not block until the generation is finished\n",
    "request = ImageRequest(\"A beautiful beach\", name=\"flux.1.1-pro\", api_key=\"fff94ce2-930c-4250-a111-5a7f95c1b21d\")\n",
    "\n",
    "request.image\n",
    "# -> a PIL image"
   ]
  }
 ],
 "metadata": {
  "kernelspec": {
   "display_name": "base",
   "language": "python",
   "name": "python3"
  },
  "language_info": {
   "codemirror_mode": {
    "name": "ipython",
    "version": 3
   },
   "file_extension": ".py",
   "mimetype": "text/x-python",
   "name": "python",
   "nbconvert_exporter": "python",
   "pygments_lexer": "ipython3",
   "version": "3.12.2"
  }
 },
 "nbformat": 4,
 "nbformat_minor": 2
}
