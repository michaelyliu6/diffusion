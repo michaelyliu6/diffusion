{
 "cells": [
  {
   "cell_type": "markdown",
   "metadata": {},
   "source": [
    "# Classifier Guidance\n",
    "\n",
    "\n"
   ]
  },
  {
   "cell_type": "code",
   "execution_count": null,
   "metadata": {},
   "outputs": [],
   "source": [
    "import torch\n",
    "import torch.nn as nn\n",
    "import torch.optim as optim\n",
    "from torchvision import datasets, transforms\n",
    "from torch.utils.data import DataLoader\n",
    "from tqdm import tqdm\n",
    "import wandb\n",
    "\n",
    "# Define the model\n",
    "class FashionCNN(nn.Module):\n",
    "    def __init__(self):\n",
    "        super(FashionCNN, self).__init__()\n",
    "        self.layer1 = nn.Sequential(\n",
    "            nn.Conv2d(in_channels=1, out_channels=32, kernel_size=3, padding=1),\n",
    "            nn.BatchNorm2d(32),\n",
    "            nn.ReLU(),\n",
    "            nn.MaxPool2d(kernel_size=2, stride=2)\n",
    "        )\n",
    "        self.layer2 = nn.Sequential(\n",
    "            nn.Conv2d(in_channels=32, out_channels=64, kernel_size=3),\n",
    "            nn.BatchNorm2d(64),\n",
    "            nn.ReLU(),\n",
    "            nn.MaxPool2d(2)\n",
    "        )\n",
    "        self.fc1 = nn.Linear(in_features=64 * 6 * 6, out_features=600)\n",
    "        self.drop = nn.Dropout2d(0.25)\n",
    "        self.fc2 = nn.Linear(in_features=600, out_features=120)\n",
    "        self.fc3 = nn.Linear(in_features=120, out_features=10)\n",
    "\n",
    "    def forward(self, x):\n",
    "        out = self.layer1(x)\n",
    "        out = self.layer2(out)\n",
    "        out = out.view(out.size(0), -1)\n",
    "        out = self.fc1(out)\n",
    "        out = self.drop(out)\n",
    "        out = self.fc2(out)\n",
    "        out = self.fc3(out)\n",
    "        return out"
   ]
  },
  {
   "cell_type": "code",
   "execution_count": null,
   "metadata": {},
   "outputs": [],
   "source": [
    "\n",
    "# # Initialize wandb\n",
    "# wandb.init(project=\"fashion-mnist-classifier\")\n",
    "\n",
    "# # Hyperparameters\n",
    "# config = wandb.config\n",
    "# config.batch_size = 100\n",
    "# config.learning_rate = 0.001\n",
    "# config.num_epochs = 25\n",
    "# config.test_every_n_epochs = 3  # Test every 3 epochs\n",
    "\n",
    "# # Device configuration\n",
    "# device = torch.device('cuda' if torch.cuda.is_available() else \"mps\" if torch.mps.is_available() else 'cpu')\n",
    "\n",
    "# # Load FashionMNIST dataset\n",
    "# train_dataset = datasets.FashionMNIST(root='./data', train=True, transform=transforms.Compose([\n",
    "#     transforms.ToTensor(),\n",
    "#     transforms.Normalize((0.5,), (0.5,))\n",
    "# ]), download=True)\n",
    "\n",
    "# test_dataset = datasets.FashionMNIST(root='./data', train=False, transform=transforms.Compose([\n",
    "#     transforms.ToTensor(),\n",
    "#     transforms.Normalize((0.5,), (0.5,))\n",
    "# ]))\n",
    "\n",
    "# train_loader = DataLoader(dataset=train_dataset, batch_size=config.batch_size, shuffle=True)\n",
    "# test_loader = DataLoader(dataset=test_dataset, batch_size=config.batch_size, shuffle=False)\n",
    "\n",
    "# # Initialize model, loss function, and optimizer\n",
    "# model = FashionCNN().to(device)\n",
    "# criterion = nn.CrossEntropyLoss()\n",
    "# optimizer = optim.Adam(model.parameters(), lr=config.learning_rate)\n",
    "\n",
    "# # Watch the model\n",
    "# wandb.watch(model)\n",
    "\n",
    "# # Training loop\n",
    "# for epoch in range(config.num_epochs):\n",
    "#     model.train()\n",
    "#     epoch_loss = 0\n",
    "#     epoch_accuracy = 0\n",
    "#     for i, (images, labels) in enumerate(tqdm(train_loader, desc=f\"Epoch {epoch+1}/{config.num_epochs} (Train)\")):\n",
    "#         images = images.to(device)\n",
    "#         labels = labels.to(device)\n",
    "\n",
    "#         # Forward pass\n",
    "#         outputs = model(images)\n",
    "#         loss = criterion(outputs, labels)\n",
    "\n",
    "#         # Backward and optimize\n",
    "#         optimizer.zero_grad()\n",
    "#         loss.backward()\n",
    "#         optimizer.step()\n",
    "\n",
    "#         # Calculate accuracy\n",
    "#         _, predicted = torch.max(outputs.data, 1)\n",
    "#         batch_accuracy = (predicted == labels).sum().item() / labels.size(0)\n",
    "\n",
    "#         epoch_loss += loss.item()\n",
    "#         epoch_accuracy += batch_accuracy\n",
    "#         wandb.log({\"batch_loss\": loss.item(), \"batch_accuracy\": batch_accuracy})\n",
    "\n",
    "#     avg_epoch_loss = epoch_loss / len(train_loader)\n",
    "#     avg_epoch_accuracy = epoch_accuracy / len(train_loader)\n",
    "#     wandb.log({\"epoch\": epoch + 1, \"epoch_loss\": avg_epoch_loss, \"epoch_accuracy\": avg_epoch_accuracy})\n",
    "#     print(f'Epoch [{epoch+1}/{config.num_epochs}], Train Loss: {avg_epoch_loss:.4f}, Train Accuracy: {avg_epoch_accuracy:.4f}')\n",
    "\n",
    "#     # Test during training\n",
    "#     if (epoch + 1) % config.test_every_n_epochs == 0:\n",
    "#         model.eval()\n",
    "#         with torch.no_grad():\n",
    "#             correct = 0\n",
    "#             total = 0\n",
    "#             test_loss = 0\n",
    "#             for images, labels in tqdm(test_loader, desc=f\"Epoch {epoch+1}/{config.num_epochs} (Test)\"):\n",
    "#                 images = images.to(device)\n",
    "#                 labels = labels.to(device)\n",
    "#                 outputs = model(images)\n",
    "#                 loss = criterion(outputs, labels)\n",
    "#                 test_loss += loss.item()\n",
    "\n",
    "#                 _, predicted = torch.max(outputs.data, 1)\n",
    "#                 total += labels.size(0)\n",
    "#                 correct += (predicted == labels).sum().item()\n",
    "\n",
    "#             avg_test_loss = test_loss / len(test_loader)\n",
    "#             test_accuracy = 100 * correct / total\n",
    "#             wandb.log({\"epoch\": epoch + 1, \"test_loss\": avg_test_loss, \"test_accuracy\": test_accuracy})\n",
    "#             print(f'Epoch [{epoch+1}/{config.num_epochs}], Test Loss: {avg_test_loss:.4f}, Test Accuracy: {test_accuracy:.2f} %')\n",
    "\n",
    "# wandb.finish()\n",
    "\n",
    "# # Save the model checkpoint\n",
    "# torch.save(model.state_dict(), 'fashion_mnist_cnn.pt')"
   ]
  },
  {
   "cell_type": "markdown",
   "metadata": {},
   "source": [
    "<img src=\"references/classifier_guided_DDPM.png\" alt=\"Positional Embedding\">\n",
    "<figcaption>From Calvo (2018) in <a href=\"https://medium.com/dissecting-bert/dissecting-bert-part-1-d3c3d495cdb3\">Dissecting BERT Part 1: The Encoder</a> (different blog post from the one previously mentioned)</figcaption>"
   ]
  },
  {
   "cell_type": "code",
   "execution_count": null,
   "metadata": {},
   "outputs": [
    {
     "name": "stderr",
     "output_type": "stream",
     "text": [
      "/var/folders/sm/byz3skxx5c57sw2mzmy66j240000gn/T/ipykernel_19248/3120068008.py:17: FutureWarning: You are using `torch.load` with `weights_only=False` (the current default value), which uses the default pickle module implicitly. It is possible to construct malicious pickle data which will execute arbitrary code during unpickling (See https://github.com/pytorch/pytorch/blob/main/SECURITY.md#untrusted-models for more details). In a future release, the default value for `weights_only` will be flipped to `True`. This limits the functions that could be executed during unpickling. Arbitrary objects will no longer be allowed to be loaded via this mode unless they are explicitly allowlisted by the user via `torch.serialization.add_safe_globals`. We recommend you start setting `weights_only=True` for any use case where you don't have full control of the loaded file. Please open an issue on GitHub for any issues related to this experimental feature.\n",
      "  diffusion_model.load_state_dict(t.load(str(MODEL_FILENAME)))\n"
     ]
    },
    {
     "name": "stdout",
     "output_type": "stream",
     "text": [
      "Channel sizes for in/out: [(28, 28), (28, 56), (56, 112)]\n",
      "Channel sizes for in/out: [(28, 28), (28, 56), (56, 112)]\n"
     ]
    }
   ],
   "source": [
    "diffusion_model = Unet(\n",
    "    max_steps=config_dict[\"max_steps\"],\n",
    "    channels=config_dict[\"model_channels\"],\n",
    "    image_shape=config_dict[\"image_shape\"],\n",
    "    dim_mults=config_dict[\"model_dim_mults\"],\n",
    ").to(config_dict[\"device\"])\n",
    "assert isinstance(data_folder, Path)\n",
    "MODEL_FILENAME = data_folder / \"unet_model_thousand.pt\"\n",
    "if MODEL_FILENAME.exists():\n",
    "    diffusion_model = Unet(\n",
    "        max_steps=config_dict[\"max_steps\"],\n",
    "        channels=config_dict[\"model_channels\"],\n",
    "        image_shape=config_dict[\"image_shape\"],\n",
    "        dim_mults=config_dict[\"model_dim_mults\"],\n",
    "    ).to(config_dict[\"device\"])\n",
    "    diffusion_model.noise_schedule = NoiseSchedule(config_dict[\"max_steps\"], config_dict[\"device\"])\n",
    "    diffusion_model.load_state_dict(t.load(str(MODEL_FILENAME)))"
   ]
  },
  {
   "cell_type": "code",
   "execution_count": null,
   "metadata": {},
   "outputs": [
    {
     "name": "stderr",
     "output_type": "stream",
     "text": [
      "No files have been modified since last commit. Skipping to prevent empty commit.\n"
     ]
    },
    {
     "data": {
      "text/plain": [
       "CommitInfo(commit_url='https://huggingface.co/michaelyliu6/fashionmnist-classifier/commit/a048c8a3263fbbe64768787a8f7eb1f634b121f2', commit_message='Upload fashionmnist-classifier-simple.pt with huggingface_hub', commit_description='', oid='a048c8a3263fbbe64768787a8f7eb1f634b121f2', pr_url=None, repo_url=RepoUrl('https://huggingface.co/michaelyliu6/fashionmnist-classifier', endpoint='https://huggingface.co', repo_type='model', repo_id='michaelyliu6/fashionmnist-classifier'), pr_revision=None, pr_num=None)"
      ]
     },
     "metadata": {},
     "output_type": "display_data"
    }
   ],
   "source": [
    "api.upload_file(\n",
    "    path_or_fileobj=\"./data/w3d4/simple_classifier.pt\",\n",
    "    path_in_repo=\"fashionmnist-classifier-simple.pt\",\n",
    "    repo_id=\"michaelyliu6/fashionmnist-classifier\",\n",
    "    repo_type=\"model\",\n",
    "    create_pr=False\n",
    ")"
   ]
  },
  {
   "cell_type": "code",
   "execution_count": null,
   "metadata": {},
   "outputs": [
    {
     "name": "stderr",
     "output_type": "stream",
     "text": [
      "/var/folders/sm/byz3skxx5c57sw2mzmy66j240000gn/T/ipykernel_19248/1467744199.py:2: FutureWarning: You are using `torch.load` with `weights_only=False` (the current default value), which uses the default pickle module implicitly. It is possible to construct malicious pickle data which will execute arbitrary code during unpickling (See https://github.com/pytorch/pytorch/blob/main/SECURITY.md#untrusted-models for more details). In a future release, the default value for `weights_only` will be flipped to `True`. This limits the functions that could be executed during unpickling. Arbitrary objects will no longer be allowed to be loaded via this mode unless they are explicitly allowlisted by the user via `torch.serialization.add_safe_globals`. We recommend you start setting `weights_only=True` for any use case where you don't have full control of the loaded file. Please open an issue on GitHub for any issues related to this experimental feature.\n",
      "  model.load_state_dict(torch.load('fashion_mnist_cnn.pt'))\n"
     ]
    },
    {
     "data": {
      "text/plain": [
       "<All keys matched successfully>"
      ]
     },
     "metadata": {},
     "output_type": "display_data"
    }
   ],
   "source": [
    "model = FashionCNN().to('mps')\n",
    "model.load_state_dict(torch.load('fashion_mnist_cnn.pt'))"
   ]
  },
  {
   "cell_type": "code",
   "execution_count": null,
   "metadata": {},
   "outputs": [],
   "source": [
    "import torch\n",
    "import torch.nn.functional as F\n",
    "from tqdm import tqdm\n",
    "\n",
    "def sample_images_from_class(\n",
    "    diffusion_model,\n",
    "    classifier_model,\n",
    "    class_index,\n",
    "    num_images,\n",
    "    num_sampling_steps,\n",
    "    image_size,\n",
    "    guidance_scale=1.5,\n",
    "    device=\"cuda\",\n",
    "):\n",
    "    \"\"\"\n",
    "    Generates images of a specific class using classifier-guided diffusion.\n",
    "\n",
    "    Args:\n",
    "        diffusion_model: Your trained DDPM model (with Unet and NoiseSchedule).\n",
    "        classifier_model: The trained classifier model.\n",
    "        class_index: The index of the class to generate (0 to num_classes-1).\n",
    "        num_images: The number of images to generate.\n",
    "        num_sampling_steps: The number of diffusion timesteps for sampling.\n",
    "        image_size: The size of the generated images (e.g., (1, 28, 28) for FashionMNIST).\n",
    "        guidance_scale: The scale factor for classifier guidance.\n",
    "        device: The device to perform computations on.\n",
    "\n",
    "    Returns:\n",
    "        A tensor of generated images.\n",
    "    \"\"\"\n",
    "\n",
    "    # 1. Get Noise Schedule:\n",
    "    noise_schedule = diffusion_model.noise_schedule\n",
    "\n",
    "    # 2. Initialize Samples:\n",
    "    x = torch.randn((num_images, *image_size), device=device)\n",
    "\n",
    "    # 3. Class Labels (for conditional sampling):\n",
    "    # Create labels all corresponding to the desired class_index\n",
    "    labels = torch.full((num_images,), class_index, device=device, dtype=torch.long)\n",
    "    one_hot_labels = F.one_hot(\n",
    "        labels, num_classes=classifier_model.fc2.out_features\n",
    "    ).float()  # Get num_classes from classifier\n",
    "\n",
    "    # 4. Sampling Loop:\n",
    "    for i in tqdm(\n",
    "        reversed(range(0, num_sampling_steps)),\n",
    "        desc=\"Sampling\",\n",
    "        total=num_sampling_steps,\n",
    "    ):\n",
    "        t = torch.full((num_images,), i, device=device, dtype=torch.long)\n",
    "\n",
    "        # 4.1. Classifier Prediction (and Gradient Calculation):\n",
    "        with torch.enable_grad():\n",
    "            x_in = x.detach().requires_grad_(True)\n",
    "            classifier_logits = classifier_model(x_in)\n",
    "            log_probs = F.log_softmax(classifier_logits, dim=-1)\n",
    "            selected = log_probs[range(len(log_probs)), labels]  # Select log_probs of the desired class\n",
    "            classifier_grad = (\n",
    "                torch.autograd.grad(selected.sum(), x_in)[0] * guidance_scale\n",
    "            )\n",
    "\n",
    "        # 4.2. DDPM Denoising Step:\n",
    "        model_output = diffusion_model(x, t)\n",
    "\n",
    "        # 4.3. Apply Classifier Guidance:\n",
    "        alpha_t = noise_schedule.alpha(t)\n",
    "        alpha_bar_t = noise_schedule.alpha_bar(t)\n",
    "        beta_t = noise_schedule.beta(t)\n",
    "        sigma_t = torch.sqrt(beta_t)\n",
    "\n",
    "        # Apply guidance to modify the model output (predicted noise)\n",
    "        if guidance_scale > 0.0:\n",
    "            model_output = model_output - torch.sqrt(1 - alpha_bar_t).view(-1, 1, 1, 1) * classifier_grad\n",
    "\n",
    "        # 4.4. Predict Previous Sample (x_{t-1}): using the modified model_output\n",
    "        pred_mean = (\n",
    "            1\n",
    "            / torch.sqrt(alpha_t)\n",
    "        ).view(-1, 1, 1, 1) * (\n",
    "            x\n",
    "            - (1 - alpha_t).view(-1, 1, 1, 1)\n",
    "            / torch.sqrt(1 - alpha_bar_t).view(-1, 1, 1, 1)\n",
    "            * model_output\n",
    "        )\n",
    "        \n",
    "        if i > 0:\n",
    "            noise = torch.randn_like(x)\n",
    "        else:\n",
    "            noise = torch.zeros_like(x)\n",
    "\n",
    "        x = pred_mean + sigma_t.view(-1, 1, 1, 1) * noise\n",
    "\n",
    "    return x"
   ]
  },
  {
   "cell_type": "code",
   "execution_count": null,
   "metadata": {},
   "outputs": [
    {
     "name": "stderr",
     "output_type": "stream",
     "text": [
      "Sampling: 100%|██████████| 1000/1000 [01:23<00:00, 11.91it/s]\n"
     ]
    }
   ],
   "source": [
    "# Example: Generate 16 images of class 3 (e.g., \"Dress\" in FashionMNIST)\n",
    "\n",
    "# 0 T-shirt/top\n",
    "# 1 Trouser\n",
    "# 2 Pullover\n",
    "# 3 Dress\n",
    "# 4 Coat\n",
    "# 5 Sandal\n",
    "# 6 Shirt\n",
    "# 7 Sneaker\n",
    "# 8 Bag\n",
    "# 9 Ankle boot\n",
    "\n",
    "class_index = 9  # The class you want to generate\n",
    "num_images = 1\n",
    "image_size = (1, 28, 28)\n",
    "guidance_scale = 3\n",
    "model = model.to(\"mps\")\n",
    "\n",
    "generated_images = sample_images_from_class(\n",
    "    diffusion_model,\n",
    "    model,\n",
    "    class_index,\n",
    "    num_images,\n",
    "    num_sampling_steps=diffusion_model.noise_schedule.max_steps,\n",
    "    image_size=image_size,\n",
    "    guidance_scale=guidance_scale,\n",
    "    device=\"mps\",  # Or \"cpu\"\n",
    ")\n",
    "\n",
    "# generated_images now contains the generated images (no labels)"
   ]
  },
  {
   "cell_type": "code",
   "execution_count": null,
   "metadata": {},
   "outputs": [
    {
     "data": {
      "image/jpeg": "[encoded data removed]",
      "image/png": "[encoded data removed]",
      "text/plain": [
       "<PIL.Image.Image image mode=RGB size=112x112>"
      ]
     },
     "metadata": {},
     "output_type": "display_data"
    }
   ],
   "source": [
    "display_image_grid(generated_images.detach().cpu(), images_per_row=1)"
   ]
  }
 ],
 "metadata": {
  "kernelspec": {
   "display_name": "base",
   "language": "python",
   "name": "python3"
  },
  "language_info": {
   "codemirror_mode": {
    "name": "ipython",
    "version": 3
   },
   "file_extension": ".py",
   "mimetype": "text/x-python",
   "name": "python",
   "nbconvert_exporter": "python",
   "pygments_lexer": "ipython3",
   "version": "3.12.2"
  }
 },
 "nbformat": 4,
 "nbformat_minor": 2
}
